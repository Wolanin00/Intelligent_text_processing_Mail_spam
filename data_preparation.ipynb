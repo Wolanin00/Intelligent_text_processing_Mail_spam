{
 "cells": [
  {
   "cell_type": "code",
   "execution_count": 1,
   "metadata": {},
   "outputs": [],
   "source": [
    "import pandas as pd\n",
    "\n",
    "raw_data = pd.read_csv(\"data/spam_NLP.csv\")"
   ]
  },
  {
   "cell_type": "code",
   "execution_count": 2,
   "metadata": {},
   "outputs": [],
   "source": [
    "all_messages = raw_data[\"MESSAGE\"]\n",
    "all_category = raw_data[\"CATEGORY\"]"
   ]
  },
  {
   "cell_type": "code",
   "execution_count": 4,
   "metadata": {},
   "outputs": [],
   "source": [
    "sample_mail_content = all_messages.iloc[0]\n",
    "\n",
    "with open(\"data/sample_spam_mail.txt\", \"w\") as sample_mail_data:\n",
    "    sample_mail_data.write(sample_mail_content)"
   ]
  },
  {
   "cell_type": "markdown",
   "metadata": {},
   "source": [
    "# remove_punctuation"
   ]
  },
  {
   "cell_type": "code",
   "execution_count": 5,
   "metadata": {},
   "outputs": [],
   "source": [
    "import string\n",
    "\n",
    "all_messages_with_remove_punctuation = [\n",
    "    el.translate(str.maketrans(\"\", \"\", string.punctuation)) for el in all_messages\n",
    "]"
   ]
  },
  {
   "cell_type": "markdown",
   "metadata": {},
   "source": [
    "# tokenization"
   ]
  },
  {
   "cell_type": "code",
   "execution_count": 6,
   "metadata": {},
   "outputs": [],
   "source": [
    "from nltk.tokenize import word_tokenize\n",
    "\n",
    "try:\n",
    "    all_messages_in_tokens = [\n",
    "        word_tokenize(el) for el in all_messages_with_remove_punctuation\n",
    "    ]\n",
    "except LookupError:\n",
    "    import nltk\n",
    "\n",
    "    nltk.download(\"punkt\")\n",
    "    all_messages_in_tokens = [\n",
    "        word_tokenize(el) for el in all_messages_with_remove_punctuation\n",
    "    ]"
   ]
  },
  {
   "cell_type": "markdown",
   "metadata": {},
   "source": [
    "# stemmer"
   ]
  },
  {
   "cell_type": "code",
   "execution_count": 7,
   "metadata": {},
   "outputs": [],
   "source": [
    "from nltk.stem import PorterStemmer\n",
    "\n",
    "ps = PorterStemmer()"
   ]
  },
  {
   "cell_type": "code",
   "execution_count": 8,
   "metadata": {},
   "outputs": [],
   "source": [
    "all_messages_stemmer_list = [\n",
    "    [ps.stem(el) for el in message] for message in all_messages_in_tokens\n",
    "]"
   ]
  },
  {
   "cell_type": "markdown",
   "metadata": {},
   "source": [
    "# remove_prepositions"
   ]
  },
  {
   "cell_type": "code",
   "execution_count": 9,
   "metadata": {},
   "outputs": [],
   "source": [
    "from nltk.corpus import stopwords\n",
    "\n",
    "try:\n",
    "    stop_words = stopwords.words(\"english\")\n",
    "except:\n",
    "    import nltk\n",
    "\n",
    "    nltk.download(\"stopwords\")\n",
    "    stop_words = stopwords.words(\"english\")"
   ]
  },
  {
   "cell_type": "code",
   "execution_count": 10,
   "metadata": {},
   "outputs": [],
   "source": [
    "all_messages_filtered_text = [\n",
    "    [el for el in message if el not in stop_words]\n",
    "    for message in all_messages_stemmer_list\n",
    "]"
   ]
  },
  {
   "cell_type": "code",
   "execution_count": 11,
   "metadata": {},
   "outputs": [],
   "source": [
    "all_messages_as_text = [\" \".join(message) for message in all_messages_filtered_text]"
   ]
  },
  {
   "cell_type": "markdown",
   "metadata": {},
   "source": [
    "# Vectorizer"
   ]
  },
  {
   "cell_type": "code",
   "execution_count": 12,
   "metadata": {},
   "outputs": [],
   "source": [
    "from sklearn.feature_extraction.text import CountVectorizer\n",
    "\n",
    "vectorizer = CountVectorizer()"
   ]
  },
  {
   "cell_type": "code",
   "execution_count": 13,
   "metadata": {},
   "outputs": [],
   "source": [
    "all_messages_vectorized = vectorizer.fit_transform(all_messages_as_text)"
   ]
  },
  {
   "cell_type": "markdown",
   "metadata": {},
   "source": [
    "# Classifying model"
   ]
  },
  {
   "cell_type": "markdown",
   "metadata": {},
   "source": [
    "##  train_test_split"
   ]
  },
  {
   "cell_type": "code",
   "execution_count": 14,
   "metadata": {},
   "outputs": [],
   "source": [
    "from sklearn.model_selection import train_test_split\n",
    "\n",
    "X_train, X_test, y_train, y_test = train_test_split(\n",
    "    all_messages_vectorized, all_category, test_size=0.2, random_state=42\n",
    ")"
   ]
  },
  {
   "cell_type": "markdown",
   "metadata": {},
   "source": [
    "# algorithm"
   ]
  },
  {
   "cell_type": "code",
   "execution_count": 15,
   "metadata": {},
   "outputs": [],
   "source": [
    "from sklearn.svm import SVC\n",
    "from sklearn.ensemble import RandomForestClassifier\n",
    "\n",
    "svm_classifier = SVC(kernel=\"linear\")\n",
    "rf_classifier = RandomForestClassifier()\n",
    "\n",
    "algorithms = {\"SVC\": svm_classifier, \"RandomForestClassifier\": rf_classifier}"
   ]
  },
  {
   "cell_type": "code",
   "execution_count": 16,
   "metadata": {},
   "outputs": [
    {
     "name": "stdout",
     "output_type": "stream",
     "text": [
      "Algorithm: SVC\n",
      "Classification accuracy: 0.9896551724\n",
      "Accuracy:   0.9896551724137931\n",
      "Precision:  0.9873737373737373\n",
      "Recall:     0.9824120603015075\n",
      "F1-score:   0.9848866498740554\n",
      "Macierz pomyłek:\n",
      "[[757   5]\n",
      " [  7 391]]\n",
      "-------------------------------------\n",
      "Algorithm: RandomForestClassifier\n",
      "Classification accuracy: 0.9827586207\n",
      "Accuracy:   0.9827586206896551\n",
      "Precision:  0.9846153846153847\n",
      "Recall:     0.964824120603015\n",
      "F1-score:   0.9746192893401016\n",
      "Macierz pomyłek:\n",
      "[[756   6]\n",
      " [ 14 384]]\n",
      "-------------------------------------\n",
      "The best algorithm is: {'algorithm': SVC(kernel='linear'), 'score': 0.9896551724137931}\n"
     ]
    }
   ],
   "source": [
    "from sklearn.metrics import (\n",
    "    accuracy_score,\n",
    "    precision_score,\n",
    "    recall_score,\n",
    "    f1_score,\n",
    "    confusion_matrix,\n",
    ")\n",
    "\n",
    "best_algorithm = {\"algorithm\": None, \"score\": 0}\n",
    "\n",
    "for key, value in algorithms.items():\n",
    "    print(f\"Algorithm: {key}\")\n",
    "    value.fit(X_train, y_train)\n",
    "\n",
    "    accuracy = value.score(X_test, y_test)\n",
    "    print(\"Classification accuracy: {:.10f}\".format(accuracy))\n",
    "\n",
    "    y_pred = value.predict(X_test)\n",
    "\n",
    "    accuracy_sc = accuracy_score(y_test, y_pred)\n",
    "    precision_sc = precision_score(y_test, y_pred)\n",
    "    recall_sc = recall_score(y_test, y_pred)\n",
    "    f1_sc = f1_score(y_test, y_pred)\n",
    "\n",
    "    print(\"Accuracy:  \", accuracy_sc)\n",
    "    print(\"Precision: \", precision_sc)\n",
    "    print(\"Recall:    \", recall_sc)\n",
    "    print(\"F1-score:  \", f1_sc)\n",
    "\n",
    "    conf_matrix = confusion_matrix(y_test, y_pred)\n",
    "    print(\"Macierz pomyłek:\")\n",
    "    print(conf_matrix)\n",
    "\n",
    "    if accuracy > best_algorithm[\"score\"]:\n",
    "        best_algorithm[\"algorithm\"] = value\n",
    "        best_algorithm[\"score\"] = accuracy\n",
    "    print(\"-------------------------------------\")\n",
    "\n",
    "print(f\"The best algorithm is: {best_algorithm}\")"
   ]
  },
  {
   "cell_type": "markdown",
   "metadata": {},
   "source": [
    "# save the model"
   ]
  },
  {
   "cell_type": "code",
   "execution_count": 34,
   "metadata": {},
   "outputs": [],
   "source": [
    "import pickle\n",
    "\n",
    "# Save the trained model\n",
    "with open(\"best_model.pkl\", \"wb\") as f:\n",
    "    pickle.dump(best_algorithm[\"algorithm\"], f)"
   ]
  },
  {
   "cell_type": "markdown",
   "metadata": {},
   "source": [
    "# save the vectorizer"
   ]
  },
  {
   "cell_type": "code",
   "execution_count": 35,
   "metadata": {},
   "outputs": [],
   "source": [
    "with open(\"vectorizer_model.pkl\", \"wb\") as f:\n",
    "    pickle.dump(vectorizer, f)"
   ]
  }
 ],
 "metadata": {
  "kernelspec": {
   "display_name": "notebook-samples",
   "language": "python",
   "name": "python3"
  },
  "language_info": {
   "codemirror_mode": {
    "name": "ipython",
    "version": 3
   },
   "file_extension": ".py",
   "mimetype": "text/x-python",
   "name": "python",
   "nbconvert_exporter": "python",
   "pygments_lexer": "ipython3",
   "version": "3.10.14"
  }
 },
 "nbformat": 4,
 "nbformat_minor": 2
}
