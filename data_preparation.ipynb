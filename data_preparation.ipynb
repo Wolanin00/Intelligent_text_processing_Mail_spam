{
 "cells": [
  {
   "cell_type": "code",
   "execution_count": 1,
   "metadata": {},
   "outputs": [],
   "source": [
    "import pandas as pd\n",
    "\n",
    "raw_data = pd.read_csv(\"spam_NLP.csv\")"
   ]
  },
  {
   "cell_type": "code",
   "execution_count": 2,
   "metadata": {},
   "outputs": [],
   "source": [
    "all_messages = raw_data[\"MESSAGE\"]\n",
    "all_category = raw_data[\"CATEGORY\"]"
   ]
  },
  {
   "cell_type": "code",
   "execution_count": 3,
   "metadata": {},
   "outputs": [],
   "source": [
    "sample_mail_content = all_messages.iloc[0]\n",
    "\n",
    "with open(\"sample_spam_mail.txt\", \"w\") as sample_mail_data:\n",
    "    sample_mail_data.write(sample_mail_content)"
   ]
  },
  {
   "cell_type": "markdown",
   "metadata": {},
   "source": [
    "# remove_punctuation"
   ]
  },
  {
   "cell_type": "code",
   "execution_count": 4,
   "metadata": {},
   "outputs": [],
   "source": [
    "import string\n",
    "\n",
    "all_messages_with_remove_punctuation = [el.translate(str.maketrans(\"\", \"\", string.punctuation)) for el in all_messages]"
   ]
  },
  {
   "cell_type": "markdown",
   "metadata": {},
   "source": [
    "# tokenization"
   ]
  },
  {
   "cell_type": "code",
   "execution_count": null,
   "metadata": {},
   "outputs": [],
   "source": [
    "from nltk.tokenize import word_tokenize\n",
    "\n",
    "try:\n",
    "    all_messages_in_tokens = [word_tokenize(el) for el in all_messages_with_remove_punctuation]\n",
    "except LookupError:\n",
    "    import nltk\n",
    "    nltk.download('punkt')\n",
    "    all_messages_in_tokens = [word_tokenize(el) for el in all_messages_with_remove_punctuation]"
   ]
  },
  {
   "cell_type": "markdown",
   "metadata": {},
   "source": [
    "# stemmer"
   ]
  },
  {
   "cell_type": "code",
   "execution_count": 7,
   "metadata": {},
   "outputs": [],
   "source": [
    "from nltk.stem import PorterStemmer\n",
    "\n",
    "ps = PorterStemmer()"
   ]
  },
  {
   "cell_type": "code",
   "execution_count": 8,
   "metadata": {},
   "outputs": [],
   "source": [
    "all_messages_stemmer_list = [[ps.stem(el) for el in message] for message in all_messages_in_tokens]"
   ]
  },
  {
   "cell_type": "markdown",
   "metadata": {},
   "source": [
    "# remove_prepositions"
   ]
  },
  {
   "cell_type": "code",
   "execution_count": null,
   "metadata": {},
   "outputs": [],
   "source": [
    "from nltk.corpus import stopwords\n",
    "\n",
    "try:\n",
    "    stop_words = stopwords.words('english')\n",
    "except:\n",
    "    import nltk\n",
    "    nltk.download('stopwords')\n",
    "    stop_words = stopwords.words('english')"
   ]
  },
  {
   "cell_type": "code",
   "execution_count": 11,
   "metadata": {},
   "outputs": [],
   "source": [
    "all_messages_filtered_text = [[el for el in message if el not in stop_words] for message in all_messages_stemmer_list]"
   ]
  },
  {
   "cell_type": "code",
   "execution_count": 12,
   "metadata": {},
   "outputs": [],
   "source": [
    "all_messages_as_text = [' '.join(message) for message in all_messages_filtered_text]"
   ]
  },
  {
   "cell_type": "markdown",
   "metadata": {},
   "source": [
    "# Vectorizer"
   ]
  },
  {
   "cell_type": "code",
   "execution_count": 14,
   "metadata": {},
   "outputs": [],
   "source": [
    "from sklearn.feature_extraction.text import CountVectorizer\n",
    "\n",
    "vectorizer = CountVectorizer()"
   ]
  },
  {
   "cell_type": "code",
   "execution_count": 15,
   "metadata": {},
   "outputs": [],
   "source": [
    "all_messages_vectorized = vectorizer.fit_transform(all_messages_as_text)"
   ]
  },
  {
   "cell_type": "markdown",
   "metadata": {},
   "source": [
    "# Classifying model"
   ]
  },
  {
   "cell_type": "markdown",
   "metadata": {},
   "source": [
    "##  train_test_split"
   ]
  },
  {
   "cell_type": "code",
   "execution_count": 23,
   "metadata": {},
   "outputs": [],
   "source": [
    "from sklearn.model_selection import train_test_split\n",
    "\n",
    "X_train, X_test, y_train, y_test = train_test_split(all_messages_vectorized, all_category, test_size=0.2, random_state=42)"
   ]
  },
  {
   "cell_type": "markdown",
   "metadata": {},
   "source": [
    "# algorithm"
   ]
  },
  {
   "cell_type": "code",
   "execution_count": 27,
   "metadata": {},
   "outputs": [],
   "source": [
    "from sklearn.svm import SVC\n",
    "from sklearn.ensemble import RandomForestClassifier\n",
    "\n",
    "svm_classifier = SVC(kernel='linear')\n",
    "rf_classifier = RandomForestClassifier()\n",
    "\n",
    "algorithms = {\n",
    "    \"SVC\": svm_classifier,\n",
    "    \"RandomForestClassifier\": rf_classifier\n",
    "}"
   ]
  },
  {
   "cell_type": "code",
   "execution_count": 33,
   "metadata": {},
   "outputs": [
    {
     "name": "stdout",
     "output_type": "stream",
     "text": [
      "Algorithm: SVC\n",
      "Classification accuracy: 0.9896551724\n",
      "Accuracy:   0.9896551724137931\n",
      "Precision:  0.9873737373737373\n",
      "Recall:     0.9824120603015075\n",
      "F1-score:   0.9848866498740554\n",
      "Macierz pomyłek:\n",
      "[[757   5]\n",
      " [  7 391]]\n",
      "-------------------------------------\n",
      "Algorithm: RandomForestClassifier\n",
      "Classification accuracy: 0.9810344828\n",
      "Accuracy:   0.9810344827586207\n",
      "Precision:  0.9845360824742269\n",
      "Recall:     0.9597989949748744\n",
      "F1-score:   0.9720101781170484\n",
      "Macierz pomyłek:\n",
      "[[756   6]\n",
      " [ 16 382]]\n",
      "-------------------------------------\n",
      "The best algorithm is: {'algorithm': SVC(kernel='linear'), 'score': 0.9896551724137931}\n"
     ]
    }
   ],
   "source": [
    "from sklearn.metrics import accuracy_score, precision_score, recall_score, f1_score, confusion_matrix\n",
    "\n",
    "best_algorithm = {\n",
    "    \"algorithm\": None,\n",
    "    \"score\": 0\n",
    "}\n",
    "\n",
    "for key, value in algorithms.items():\n",
    "    print(f\"Algorithm: {key}\")\n",
    "    value.fit(X_train, y_train)\n",
    "\n",
    "    accuracy = value.score(X_test, y_test)\n",
    "    print(\"Classification accuracy: {:.10f}\".format(accuracy))\n",
    "\n",
    "    y_pred = value.predict(X_test)\n",
    "\n",
    "    accuracy_sc = accuracy_score(y_test, y_pred)\n",
    "    precision_sc = precision_score(y_test, y_pred)\n",
    "    recall_sc = recall_score(y_test, y_pred)\n",
    "    f1_sc = f1_score(y_test, y_pred)\n",
    "\n",
    "    print(\"Accuracy:  \", accuracy_sc)\n",
    "    print(\"Precision: \", precision_sc)\n",
    "    print(\"Recall:    \", recall_sc)\n",
    "    print(\"F1-score:  \", f1_sc)\n",
    "\n",
    "    conf_matrix = confusion_matrix(y_test, y_pred)\n",
    "    print(\"Macierz pomyłek:\")\n",
    "    print(conf_matrix)\n",
    "\n",
    "    if accuracy > best_algorithm[\"score\"]:\n",
    "        best_algorithm[\"algorithm\"] = value\n",
    "        best_algorithm[\"score\"] = accuracy\n",
    "    print(\"-------------------------------------\")\n",
    "    \n",
    "print(f\"The best algorithm is: {best_algorithm}\")"
   ]
  },
  {
   "cell_type": "markdown",
   "metadata": {},
   "source": [
    "# save the model"
   ]
  },
  {
   "cell_type": "code",
   "execution_count": 34,
   "metadata": {},
   "outputs": [],
   "source": [
    "import pickle\n",
    "\n",
    "# Save the trained model\n",
    "with open('best_model.pkl', 'wb') as f:\n",
    "    pickle.dump(best_algorithm[\"algorithm\"], f)"
   ]
  },
  {
   "cell_type": "markdown",
   "metadata": {},
   "source": [
    "# save the vectorizer"
   ]
  },
  {
   "cell_type": "code",
   "execution_count": 35,
   "metadata": {},
   "outputs": [],
   "source": [
    "with open('vectorizer_model.pkl', 'wb') as f:\n",
    "    pickle.dump(vectorizer, f)"
   ]
  }
 ],
 "metadata": {
  "kernelspec": {
   "display_name": "notebook-samples",
   "language": "python",
   "name": "python3"
  },
  "language_info": {
   "codemirror_mode": {
    "name": "ipython",
    "version": 3
   },
   "file_extension": ".py",
   "mimetype": "text/x-python",
   "name": "python",
   "nbconvert_exporter": "python",
   "pygments_lexer": "ipython3",
   "version": "3.10.14"
  }
 },
 "nbformat": 4,
 "nbformat_minor": 2
}
